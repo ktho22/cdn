{
 "cells": [
  {
   "cell_type": "code",
   "execution_count": 1,
   "metadata": {
    "collapsed": true
   },
   "outputs": [],
   "source": [
    "import matplotlib\n",
    "%matplotlib notebook\n",
    "import matplotlib.pyplot as plt"
   ]
  },
  {
   "cell_type": "code",
   "execution_count": 2,
   "metadata": {
    "collapsed": false,
    "scrolled": true
   },
   "outputs": [
    {
     "name": "stdout",
     "output_type": "stream",
     "text": [
      "('Extracting', '/mnt/hdd1/thkim/dataset/MNIST/train-images-idx3-ubyte.gz')\n"
     ]
    },
    {
     "name": "stderr",
     "output_type": "stream",
     "text": [
      "/usr/lib/python2.7/gzip.py:268: VisibleDeprecationWarning: converting an array with ndim > 0 to an index will result in an error in the future\n",
      "  chunk = self.extrabuf[offset: offset + size]\n",
      "input_data.py:42: VisibleDeprecationWarning: converting an array with ndim > 0 to an index will result in an error in the future\n",
      "  data = data.reshape(num_images, rows, cols, 1)\n"
     ]
    },
    {
     "name": "stdout",
     "output_type": "stream",
     "text": [
      "('Extracting', '/mnt/hdd1/thkim/dataset/MNIST/train-labels-idx1-ubyte.gz')\n",
      "('Extracting', '/mnt/hdd1/thkim/dataset/MNIST/t10k-images-idx3-ubyte.gz')\n",
      "('Extracting', '/mnt/hdd1/thkim/dataset/MNIST/t10k-labels-idx1-ubyte.gz')\n"
     ]
    },
    {
     "ename": "NameError",
     "evalue": "name 'input_' is not defined",
     "output_type": "error",
     "traceback": [
      "\u001b[1;31m---------------------------------------------------------------------------\u001b[0m",
      "\u001b[1;31mNameError\u001b[0m                                 Traceback (most recent call last)",
      "\u001b[1;32m<ipython-input-2-0f620d930c5c>\u001b[0m in \u001b[0;36m<module>\u001b[1;34m()\u001b[0m\n\u001b[0;32m    134\u001b[0m \u001b[0mC_acc\u001b[0m \u001b[1;33m=\u001b[0m \u001b[0mnp\u001b[0m\u001b[1;33m.\u001b[0m\u001b[0mzeros\u001b[0m\u001b[1;33m(\u001b[0m\u001b[1;33m(\u001b[0m\u001b[1;36m100\u001b[0m\u001b[1;33m,\u001b[0m\u001b[1;36m10\u001b[0m\u001b[1;33m,\u001b[0m\u001b[1;36m10\u001b[0m\u001b[1;33m)\u001b[0m\u001b[1;33m)\u001b[0m\u001b[1;33m\u001b[0m\u001b[0m\n\u001b[0;32m    135\u001b[0m \u001b[0mtf\u001b[0m\u001b[1;33m.\u001b[0m\u001b[0minitialize_all_variables\u001b[0m\u001b[1;33m(\u001b[0m\u001b[1;33m)\u001b[0m\u001b[1;33m.\u001b[0m\u001b[0mrun\u001b[0m\u001b[1;33m(\u001b[0m\u001b[0msession\u001b[0m\u001b[1;33m=\u001b[0m\u001b[0msess\u001b[0m\u001b[1;33m)\u001b[0m\u001b[1;33m\u001b[0m\u001b[0m\n\u001b[1;32m--> 136\u001b[1;33m \u001b[0mC\u001b[0m\u001b[1;33m.\u001b[0m\u001b[0massign\u001b[0m\u001b[1;33m(\u001b[0m\u001b[0msess\u001b[0m\u001b[1;33m.\u001b[0m\u001b[0mrun\u001b[0m\u001b[1;33m(\u001b[0m\u001b[0mFC\u001b[0m\u001b[1;33m,\u001b[0m\u001b[0mfeed_dict\u001b[0m\u001b[1;33m=\u001b[0m\u001b[1;33m{\u001b[0m\u001b[0mX\u001b[0m\u001b[1;33m:\u001b[0m\u001b[0minput_\u001b[0m\u001b[1;33m}\u001b[0m\u001b[1;33m)\u001b[0m\u001b[1;33m[\u001b[0m\u001b[1;33m:\u001b[0m\u001b[1;36m10\u001b[0m\u001b[1;33m]\u001b[0m\u001b[1;33m)\u001b[0m\u001b[1;33m\u001b[0m\u001b[0m\n\u001b[0m\u001b[0;32m    137\u001b[0m \u001b[1;33m\u001b[0m\u001b[0m\n\u001b[0;32m    138\u001b[0m \u001b[1;32mprint\u001b[0m\u001b[1;33m(\u001b[0m\u001b[1;34m'-1'\u001b[0m\u001b[1;33m,\u001b[0m \u001b[0msess\u001b[0m\u001b[1;33m.\u001b[0m\u001b[0mrun\u001b[0m\u001b[1;33m(\u001b[0m\u001b[0mcost\u001b[0m\u001b[1;33m,\u001b[0m \u001b[0mfeed_dict\u001b[0m\u001b[1;33m=\u001b[0m\u001b[1;33m{\u001b[0m\u001b[0mX\u001b[0m\u001b[1;33m:\u001b[0m \u001b[0mteX\u001b[0m\u001b[1;33m[\u001b[0m\u001b[1;33m:\u001b[0m\u001b[0mnBatch\u001b[0m\u001b[1;33m]\u001b[0m\u001b[1;33m,\u001b[0m \u001b[0mY\u001b[0m\u001b[1;33m:\u001b[0m  \u001b[0mteY\u001b[0m\u001b[1;33m[\u001b[0m\u001b[1;33m:\u001b[0m\u001b[0mnBatch\u001b[0m\u001b[1;33m]\u001b[0m\u001b[1;33m,\u001b[0m\u001b[0malpha\u001b[0m\u001b[1;33m:\u001b[0m\u001b[0malpha_\u001b[0m\u001b[1;33m}\u001b[0m\u001b[1;33m)\u001b[0m\u001b[1;33m)\u001b[0m\u001b[1;33m\u001b[0m\u001b[0m\n",
      "\u001b[1;31mNameError\u001b[0m: name 'input_' is not defined"
     ]
    }
   ],
   "source": [
    "import tensorflow as tf\n",
    "import numpy as np\n",
    "import input_data\n",
    "\n",
    "WORK_DIRECTORY = '/mnt/hdd1/thkim/dataset/MNIST'\n",
    "NUM_CHANNELS = 1\n",
    "PIXEL_DEPTH = 255\n",
    "NUM_LABELS = 10\n",
    "VALIDATION_SIZE = 5000  # Size of the validation set.\n",
    "SEED = 66478  # Set to None for random seed.\n",
    "BATCH_SIZE = 64\n",
    "NUM_EPOCHS = 10\n",
    "EVAL_BATCH_SIZE = 64\n",
    "EVAL_FREQUENCY = 100  # Number of steps between evaluations.\n",
    "mnist_width = 28\n",
    "n_visible = mnist_width * mnist_width\n",
    "n_hidden = 10\n",
    "nBatch = 128\n",
    "alpha_ = 0.5\n",
    "\n",
    "conv1_weights = tf.Variable(\n",
    "    tf.truncated_normal([5, 5, NUM_CHANNELS, 32],  # 5x5 filter, depth 32.\n",
    "    stddev=0.1,\n",
    "    seed=SEED))\n",
    "conv1_biases = tf.Variable(tf.zeros([32]))\n",
    "conv2_weights = tf.Variable(\n",
    "    tf.truncated_normal([5, 5, 32, 64],\n",
    "    stddev=0.1,\n",
    "    seed=SEED))\n",
    "conv2_biases = tf.Variable(tf.constant(0.1, shape=[64]))\n",
    "fc1_weights = tf.Variable(  # fully connected, depth 512.\n",
    "    tf.truncated_normal(\n",
    "    [mnist_width // 4 * mnist_width // 4 * 64, 512],\n",
    "    stddev=0.1,\n",
    "    seed=SEED))\n",
    "fc1_biases = tf.Variable(tf.constant(0.1, shape=[512]))\n",
    "fc2_weights = tf.Variable(\n",
    "    tf.truncated_normal([512, NUM_LABELS],\n",
    "    stddev=0.1,\n",
    "    seed=SEED))\n",
    "fc2_biases = tf.Variable(tf.constant(0.1, shape=[NUM_LABELS]))\n",
    "\n",
    "''' Data '''\n",
    "mnist = input_data.read_data_sets(\"/mnt/hdd1/thkim/dataset/MNIST\", one_hot=True)\n",
    "trX, trY, teX, teY = mnist.train.images, mnist.train.labels, mnist.test.images, mnist.test.labels\n",
    "teX = np.reshape(teX,(len(teX),mnist_width,mnist_width,NUM_CHANNELS))\n",
    "trX = np.reshape(trX,(len(trX),mnist_width,mnist_width,NUM_CHANNELS))\n",
    "teY = np.where(teY==1)[1]\n",
    "trY = np.where(trY==1)[1]\n",
    "\n",
    "''' create node for input data '''\n",
    "#X = tf.placeholder(\"float32\", [nBatch, n_visible], name='X')\n",
    "X = tf.placeholder(\n",
    "      \"float32\",\n",
    "      shape=(nBatch, mnist_width, mnist_width, NUM_CHANNELS),name='X')\n",
    "Y = tf.placeholder(\"int64\", shape=(nBatch,),name='Y')\n",
    "\n",
    "''' create nodes for hidden variables '''\n",
    "def c_init(type='samples'):\n",
    "    if type=='samples':\n",
    "        C_init = tf.convert_to_tensor(trX[np.random.randint(0,len(trX),n_hidden)].T)\n",
    "    elif type=='random':\n",
    "        C_max = 4 * np.sqrt(6. / (n_hidden + n_hidden))\n",
    "        C_init = tf.random_uniform(shape=[n_hidden, n_hidden],\n",
    "                           minval=-C_max,maxval=C_max)\n",
    "    else:\n",
    "        C_init = None\n",
    "    return C_init\n",
    "\n",
    "C = tf.Variable(c_init('random'), name='C')\n",
    "\n",
    "conv = tf.nn.conv2d(X,\n",
    "                    conv1_weights,\n",
    "                    strides=[1, 1, 1, 1],\n",
    "                    padding='SAME')\n",
    "\n",
    "relu = tf.nn.relu(tf.nn.bias_add(conv, conv1_biases))\n",
    "pool = tf.nn.max_pool(relu,\n",
    "                      ksize=[1, 2, 2, 1],\n",
    "                      strides=[1, 2, 2, 1],\n",
    "                      padding='SAME')\n",
    "conv = tf.nn.conv2d(pool,\n",
    "                    conv2_weights,\n",
    "                    strides=[1, 1, 1, 1],\n",
    "                    padding='SAME')\n",
    "relu = tf.nn.relu(tf.nn.bias_add(conv, conv2_biases))\n",
    "pool = tf.nn.max_pool(relu,\n",
    "                      ksize=[1, 2, 2, 1],\n",
    "                      strides=[1, 2, 2, 1],\n",
    "                      padding='SAME')\n",
    "pool_shape = pool.get_shape().as_list()\n",
    "reshape = tf.reshape(\n",
    "    pool,\n",
    "    [pool_shape[0], pool_shape[1] * pool_shape[2] * pool_shape[3]])\n",
    "\n",
    "hidden = tf.nn.relu(tf.matmul(reshape, fc1_weights) + fc1_biases,name='hidden')\n",
    "\n",
    "FC = tf.matmul(hidden, fc2_weights) + fc2_biases\n",
    "#if train:\n",
    "#    hidden = tf.nn.dropout(hidden, 0.5, seed=SEED)\n",
    "\n",
    "\n",
    "C2 = tf.expand_dims(tf.transpose(C),0)\n",
    "X2 = tf.expand_dims(FC,1)\n",
    "\n",
    "dist = tf.reduce_sum(tf.square(tf.sub(X2,C2)),2)\n",
    "loss1 = tf.reduce_mean(tf.reduce_min(dist,1))\n",
    "choice = tf.argmin(dist,1)\n",
    "\n",
    "batch = tf.Variable(0)\n",
    "learning_rate = tf.train.exponential_decay(\n",
    "      1e-5,                # Base learning rate.\n",
    "      batch * nBatch,  # Current index into the dataset.\n",
    "      trX.shape[0],          # Decay step.\n",
    "      0.95,                # Decay rate.\n",
    "      staircase=True)\n",
    "  # Use simple momentum for the optimization.\n",
    "loss2 = tf.reduce_mean(tf.nn.sparse_softmax_cross_entropy_with_logits(FC, Y))\n",
    "\n",
    "regularizers = (tf.nn.l2_loss(fc1_weights) + tf.nn.l2_loss(fc1_biases) +\n",
    "                  tf.nn.l2_loss(fc2_weights) + tf.nn.l2_loss(fc2_biases))\n",
    "\n",
    "alpha = tf.placeholder('float')\n",
    "cost = (0.5-alpha)*loss1 + (0.5+alpha)*loss2 + 5e-4 * regularizers\n",
    "\n",
    "\n",
    "train_op = tf.train.MomentumOptimizer(learning_rate,0.9).minimize(cost,global_step=batch)\n",
    "#train_op = tf.train.GradientDescentOptimizer(1e-3).minimize(cost)  # construct an optimizer\n",
    "#train_op = tf.train.AdadeltaOptimizer(1e-3).minimize(cost)\n",
    "#train_op = tf.train.AdamOptimizer().minimize(cost)\n",
    "\n",
    "''' Launch the graph in a session '''\n",
    "sess = tf.Session()\n",
    "C_acc = np.zeros((100,10,10))\n",
    "tf.initialize_all_variables().run(session=sess)\n",
    "C.assign(sess.run(FC,feed_dict={X:trX[:128]})[:10])\n",
    "\n",
    "print('-1', sess.run(cost, feed_dict={X: teX[:nBatch], Y:  teY[:nBatch],alpha:alpha_}))\n",
    "C_acc[0] = sess.run(C)\n",
    "\n",
    "for i in range(1000):\n",
    "    if i >= 20 and alpha_ >= 0.05:\n",
    "        alpha_= alpha_ - 0.05\n",
    "    if alpha_ < 0:\n",
    "        alpha_ = 0\n",
    "    cnt = 0\n",
    "    for start, end in zip(range(0, len(trX), nBatch), range(nBatch, len(trX), nBatch)):\n",
    "        cnt += 1\n",
    "        input_ = trX[start:end]\n",
    "        gt_ = trY[start:end]\n",
    "        _,trainCost,l1,l2 = sess.run([train_op,cost,loss1,loss2], feed_dict={X: input_, Y: gt_, alpha:alpha_})\n",
    "        if cnt % 100 == 0: print \"Iter\", cnt, trainCost, l1, l2\n",
    "    if i<100: C_acc[i] = sess.run(C)\n",
    "   \n",
    "    out =  sess.run([cost,loss1,loss2,dist,choice], feed_dict={X: teX[:nBatch], Y: teY[:nBatch], alpha:alpha_})\n",
    "    print '===================================Test iter %d %5.3f %5.3f %5.3f %f'%(i, out[0], out[1], out[2], alpha_)\n",
    "    #print out[2]\n"
   ]
  },
  {
   "cell_type": "code",
   "execution_count": null,
   "metadata": {
    "collapsed": false
   },
   "outputs": [],
   "source": [
    "#sess.run(C)\n",
    "i=111\n",
    "oo = sess.run([cost,dist,choice], feed_dict={X: teX[i:i+128], Y: teY[:nBatch], alpha:alpha_})\n",
    "print oo[1][0]"
   ]
  },
  {
   "cell_type": "code",
   "execution_count": null,
   "metadata": {
    "collapsed": false,
    "scrolled": false
   },
   "outputs": [],
   "source": [
    "t=C_acc\n",
    "t=t.reshape(100,28,28,10) \n",
    "\n",
    "t2 = np.zeros((2800,280))\n",
    "for i in range(100):\n",
    "    for j in range(10):\n",
    "        t2[i*28:(i+1)*28,j*28:(j+1)*28] = t[i,:,:,j]\n",
    "plt.figure()\n",
    "plt.imshow(t2[:,:],cmap = plt.get_cmap('gray'))\n",
    "plt.show()"
   ]
  },
  {
   "cell_type": "code",
   "execution_count": null,
   "metadata": {
    "collapsed": false
   },
   "outputs": [],
   "source": [
    "from sklearn.cluster import KMeans\n",
    "\n",
    "Kcents = 10\n",
    "km = KMeans(init='random',n_clusters=Kcents, n_init=5, n_jobs=8)\n",
    "#km = KMeans(init='k-means++',n_clusters=Kcents, n_init=5, n_jobs=8)\n",
    "km.fit(trX)"
   ]
  },
  {
   "cell_type": "code",
   "execution_count": null,
   "metadata": {
    "collapsed": false
   },
   "outputs": [],
   "source": [
    "km.cluster_centers_.shape\n",
    "plotcent(km.cluster_centers_.reshape((10,28,28)))"
   ]
  },
  {
   "cell_type": "code",
   "execution_count": null,
   "metadata": {
    "collapsed": true
   },
   "outputs": [],
   "source": [
    "C."
   ]
  }
 ],
 "metadata": {
  "kernelspec": {
   "display_name": "Python 2",
   "language": "python",
   "name": "python2"
  },
  "language_info": {
   "codemirror_mode": {
    "name": "ipython",
    "version": 2
   },
   "file_extension": ".py",
   "mimetype": "text/x-python",
   "name": "python",
   "nbconvert_exporter": "python",
   "pygments_lexer": "ipython2",
   "version": "2.7.6"
  }
 },
 "nbformat": 4,
 "nbformat_minor": 0
}
